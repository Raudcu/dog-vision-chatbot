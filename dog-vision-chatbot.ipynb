{
  "nbformat": 4,
  "nbformat_minor": 0,
  "metadata": {
    "colab": {
      "name": "dog-vision-chatbot.ipynb",
      "provenance": [],
      "collapsed_sections": []
    },
    "kernelspec": {
      "name": "python3",
      "display_name": "Python 3"
    },
    "accelerator": "GPU"
  },
  "cells": [
    {
      "cell_type": "markdown",
      "metadata": {
        "id": "JcwMc7kQBwY2"
      },
      "source": [
        "# Overview\n",
        "\n",
        "The goal of this project is to build a Telegram bot capable of telling a dog's breed from a photo of it. \n",
        "\n",
        "To do this, I'll be using data from the [Kaggle dog breed identification competition](https://www.kaggle.com/c/dog-breed-identification/data). It consists of a collection of 10,000+ labelled images of 120 different dog breeds.\n",
        "\n",
        "For the model, I'm going to use a pretrained deep learning model from TensorFlow Hub (I'll be using TensorFlow to train a model leveraging Transfert Learning).\n",
        "\n",
        "For the first part (getting data ready and training the model) I'm going to elaborate further (a lot) on a hands-on project from the zerotomastery [Machine Learning Course](https://www.udemy.com/course/complete-machine-learning-and-data-science-zero-to-mastery/).\n",
        "\n",
        "For the bot building I'll follow this great [post](https://https://medium.com/analytics-vidhya/how-to-deploy-machine-learning-models-on-android-and-ios-with-telegram-bots-a6fb16922741)."
      ]
    }
  ]
}