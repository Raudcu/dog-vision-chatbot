{
 "cells": [
  {
   "cell_type": "markdown",
   "metadata": {},
   "source": [
    "# \"Dog vision chatbot\"\n",
    "> \"Tackling the Stanford’s Dog Dataset with Transfer Learning using TensorFlow+Keras and deploying the model with Telegram\"\n",
    "\n",
    "- toc: false\n",
    "- branch: master\n",
    "- badges: true\n",
    "- comments: true\n",
    "- categories: [transfer learning, keras, tensorflow, dog breed classifier]\n",
    "- image: images/dog-vision-chatbot/header_image.png"
   ]
  },
  {
   "cell_type": "markdown",
   "metadata": {
    "id": "JcwMc7kQBwY2"
   },
   "source": [
    "## Overview\n",
    "\n",
    "![header_img](https://raw.githubusercontent.com/Raudcu/blog/master/images/dog-vision-chatbot/header_image.png)\n",
    "\n",
    "The goal of this project is to build a Telegram bot capable of telling a dog's breed from a photo of it. \n",
    "\n",
    "To do this, I'll be using data from the [Kaggle dog breed identification competition](https://www.kaggle.com/c/dog-breed-identification/data). It consists of a collection of 10,000+ labelled images of 120 different dog breeds.\n",
    "\n",
    "For the model, I'm going to use a pretrained deep learning model from TensorFlow Hub (I'll be using TensorFlow to train a model leveraging Transfert Learning).\n",
    "\n",
    "For the first part (getting data ready and training the model) I'm going to elaborate further (a lot) on a hands-on project from the zerotomastery [Machine Learning Course](https://www.udemy.com/course/complete-machine-learning-and-data-science-zero-to-mastery/).\n",
    "\n",
    "For the bot building I'll follow this great [post](https://https://medium.com/analytics-vidhya/how-to-deploy-machine-learning-models-on-android-and-ios-with-telegram-bots-a6fb16922741)."
   ]
  },
  {
   "cell_type": "code",
   "execution_count": null,
   "metadata": {},
   "outputs": [],
   "source": []
  }
 ],
 "metadata": {
  "accelerator": "GPU",
  "colab": {
   "collapsed_sections": [],
   "name": "dog-vision-chatbot.ipynb",
   "provenance": []
  },
  "kernelspec": {
   "display_name": "Python 3",
   "language": "python",
   "name": "python3"
  },
  "language_info": {
   "codemirror_mode": {
    "name": "ipython",
    "version": 3
   },
   "file_extension": ".py",
   "mimetype": "text/x-python",
   "name": "python",
   "nbconvert_exporter": "python",
   "pygments_lexer": "ipython3",
   "version": "3.8.6"
  },
  "toc": {
   "base_numbering": 1,
   "nav_menu": {},
   "number_sections": false,
   "sideBar": true,
   "skip_h1_title": false,
   "title_cell": "Table of Contents",
   "title_sidebar": "Contents",
   "toc_cell": false,
   "toc_position": {},
   "toc_section_display": true,
   "toc_window_display": false
  },
  "varInspector": {
   "cols": {
    "lenName": 16,
    "lenType": 16,
    "lenVar": 40
   },
   "kernels_config": {
    "python": {
     "delete_cmd_postfix": "",
     "delete_cmd_prefix": "del ",
     "library": "var_list.py",
     "varRefreshCmd": "print(var_dic_list())"
    },
    "r": {
     "delete_cmd_postfix": ") ",
     "delete_cmd_prefix": "rm(",
     "library": "var_list.r",
     "varRefreshCmd": "cat(var_dic_list()) "
    }
   },
   "types_to_exclude": [
    "module",
    "function",
    "builtin_function_or_method",
    "instance",
    "_Feature"
   ],
   "window_display": false
  }
 },
 "nbformat": 4,
 "nbformat_minor": 1
}
